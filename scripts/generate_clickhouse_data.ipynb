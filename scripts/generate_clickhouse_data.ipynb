{
 "cells": [
  {
   "cell_type": "code",
   "execution_count": null,
   "id": "f1ce14c5-c86a-4a98-aba5-5440b33fbef3",
   "metadata": {},
   "outputs": [],
   "source": [
    "import numpy as np\n",
    "import pandas as pd\n",
    "import clickhouse_connect\n",
    "import uuid\n",
    "from faker import Faker\n",
    "from datetime import datetime\n",
    "\n",
    "client = clickhouse_connect.get_client(host='localhost', port='8123', user='default')\n",
    "\n",
    "create_table = \"\"\"\n",
    "CREATE TABLE events (\n",
    "    event_id UUID,\n",
    "    user_id UUID,\n",
    "    event_type String,\n",
    "    event_timestamp DateTime,\n",
    "    product_id UUID,\n",
    "    revenue Float\n",
    ")\n",
    "ENGINE = MergeTree\n",
    "ORDER BY (event_timestamp)\n",
    ";\n",
    "\"\"\"\n",
    "drop_table_if_exist = 'DROP TABLE IF EXISTS events'\n",
    "\n",
    "client.command(drop_table_if_exist)\n",
    "client.command(create_table)\n",
    "\n",
    "users = [str(uuid.uuid4()) for _ in range(1000)]\n",
    "products = [str(uuid.uuid4()) for _ in range(10)]\n",
    "events = ['click', 'view', 'purchase']\n",
    "count_rows = 100000\n",
    "fake = Faker()\n",
    "\n",
    "for i in range(1, 11):\n",
    "    data = {\n",
    "        'event_id' : [str(uuid.uuid4()) for _ in range(count_rows)],\n",
    "        'user_id' : [np.random.choice(users) for _ in range(count_rows)],\n",
    "        'event_type' : [np.random.choice(events) for _ in range(count_rows)],\n",
    "        'event_timestamp' : [fake.date_between(start_date='-2y') for _ in range(count_rows)], \n",
    "        'product_id' : [np.random.choice(products) for _ in range(count_rows)]\n",
    "    }\n",
    "    \n",
    "    revenues = []\n",
    "    for value in data['event_type']:\n",
    "        revenue = 0.0 if value != 'purchase' else np.round(np.random.uniform(low=0.1, high=400.0), decimals=2)\n",
    "        revenues.append(revenue)    \n",
    "    \n",
    "    data['revenue'] = revenues\n",
    "    \n",
    "    df = pd.DataFrame(data)\n",
    "    df['event_timestamp'] = pd.to_datetime(df['event_timestamp'])\n",
    "    client.insert_df('events', df)\n",
    "    now =datetime.now()\n",
    "\n",
    "    print(now.strftime(\"%Y-%m-%d %H:%M:%S\") + ' вставка ' + str(count_rows) + ' строк')\n"
   ]
  },
  {
   "cell_type": "code",
   "execution_count": null,
   "id": "b0d9216e-6c4d-4cc7-bd77-634cdc8e3690",
   "metadata": {},
   "outputs": [],
   "source": []
  },
  {
   "cell_type": "code",
   "execution_count": null,
   "id": "1fbcc985-e0a1-4141-90de-732dabd37bef",
   "metadata": {},
   "outputs": [],
   "source": []
  }
 ],
 "metadata": {
  "kernelspec": {
   "display_name": "Python 3 (ipykernel)",
   "language": "python",
   "name": "python3"
  },
  "language_info": {
   "codemirror_mode": {
    "name": "ipython",
    "version": 3
   },
   "file_extension": ".py",
   "mimetype": "text/x-python",
   "name": "python",
   "nbconvert_exporter": "python",
   "pygments_lexer": "ipython3",
   "version": "3.12.3"
  }
 },
 "nbformat": 4,
 "nbformat_minor": 5
}
