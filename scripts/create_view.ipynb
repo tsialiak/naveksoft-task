{
 "cells": [
  {
   "cell_type": "code",
   "execution_count": 1,
   "id": "f20434f2-f54f-4540-966b-1bf293a349c7",
   "metadata": {},
   "outputs": [
    {
     "data": {
      "text/plain": [
       "<clickhouse_connect.driver.summary.QuerySummary at 0x22040882360>"
      ]
     },
     "execution_count": 1,
     "metadata": {},
     "output_type": "execute_result"
    }
   ],
   "source": [
    "import clickhouse_connect\n",
    "\n",
    "client = clickhouse_connect.get_client(host='localhost', port='8123', user='default')\n",
    "\n",
    "create_table = \"\"\"\n",
    "CREATE TABLE IF NOT EXISTS events_by_day (\n",
    "    day Date,\n",
    "    events_count UInt16,\n",
    "    revenue Float\n",
    ") engine=SummingMergeTree()\n",
    "ORDER BY (day)\n",
    "\"\"\"\n",
    "\n",
    "create_view = \"\"\"\n",
    "CREATE MATERIALIZED VIEW events_by_day_mat_view TO events_by_day AS\n",
    "SELECT \n",
    "    toDate(event_timestamp) as day, \n",
    "    count(event_id) as events_count, \n",
    "    sum(revenue) as revenue \n",
    "FROM events \n",
    "GROUP BY day\n",
    "\"\"\"\n",
    "\n",
    "client.command(create_table)\n",
    "client.command(create_view)"
   ]
  },
  {
   "cell_type": "code",
   "execution_count": null,
   "id": "a5281612-34b1-44a4-bdb5-72853ad2f74d",
   "metadata": {},
   "outputs": [],
   "source": []
  }
 ],
 "metadata": {
  "kernelspec": {
   "display_name": "Python 3 (ipykernel)",
   "language": "python",
   "name": "python3"
  },
  "language_info": {
   "codemirror_mode": {
    "name": "ipython",
    "version": 3
   },
   "file_extension": ".py",
   "mimetype": "text/x-python",
   "name": "python",
   "nbconvert_exporter": "python",
   "pygments_lexer": "ipython3",
   "version": "3.12.3"
  }
 },
 "nbformat": 4,
 "nbformat_minor": 5
}
